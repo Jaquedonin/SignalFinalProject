{
 "cells": [
  {
   "cell_type": "code",
   "execution_count": 2,
   "metadata": {},
   "outputs": [
    {
     "data": {
      "application/javascript": [
       "\n",
       "alert(\"Command below for displays that suports Full HD\")\n",
       "//var person = prompt(\"Type y for Full HD experience\", \"y/n\");\n",
       "//if(person == y){}\n"
      ],
      "text/plain": [
       "<IPython.core.display.Javascript object>"
      ]
     },
     "metadata": {},
     "output_type": "display_data"
    }
   ],
   "source": [
    "%%javascript\n",
    "\n",
    "alert(\"Command below for displays that suports Full HD\")\n",
    "//var person = prompt(\"Type y for Full HD experience\", \"y/n\");\n",
    "//if(person == y){}"
   ]
  },
  {
   "cell_type": "code",
   "execution_count": 3,
   "metadata": {},
   "outputs": [
    {
     "data": {
      "text/html": [
       "<style>.container { width:99% !important;}</style>"
      ],
      "text/plain": [
       "<IPython.core.display.HTML object>"
      ]
     },
     "metadata": {},
     "output_type": "display_data"
    }
   ],
   "source": [
    "from IPython.core.display import display, HTML\n",
    "display(HTML(\"<style>.container { width:99% !important;}</style>\"))"
   ]
  },
  {
   "cell_type": "markdown",
   "metadata": {},
   "source": [
    "# Import Librarys"
   ]
  },
  {
   "cell_type": "code",
   "execution_count": 4,
   "metadata": {},
   "outputs": [],
   "source": [
    "import numpy as np"
   ]
  },
  {
   "cell_type": "code",
   "execution_count": 5,
   "metadata": {},
   "outputs": [],
   "source": [
    "import pandas as pd"
   ]
  },
  {
   "cell_type": "code",
   "execution_count": 6,
   "metadata": {},
   "outputs": [],
   "source": [
    "%matplotlib inline\n",
    "#%matplotlib notebook\n",
    "import matplotlib.pyplot as plt\n",
    "# Make plots bigger again\n",
    "#plt.rcParams['figure.figsize'] = [17, 8]\n",
    "\n",
    "plt.rcParams['figure.figsize'] = [17*2, 8*2]"
   ]
  },
  {
   "cell_type": "code",
   "execution_count": 7,
   "metadata": {},
   "outputs": [],
   "source": [
    "import cv2"
   ]
  },
  {
   "cell_type": "code",
   "execution_count": 8,
   "metadata": {},
   "outputs": [],
   "source": [
    "import matplotlib.image as mpimg "
   ]
  },
  {
   "cell_type": "code",
   "execution_count": 9,
   "metadata": {},
   "outputs": [],
   "source": [
    "import sys"
   ]
  },
  {
   "cell_type": "markdown",
   "metadata": {},
   "source": [
    "# List files in the . path"
   ]
  },
  {
   "cell_type": "code",
   "execution_count": 10,
   "metadata": {},
   "outputs": [
    {
     "name": "stdout",
     "output_type": "stream",
     "text": [
      "\u001b[0m\u001b[34;42m'Notes from final project'\u001b[0m/      \u001b[01;32m'Primeiros Passos.ipynb'\u001b[0m*\r\n",
      "\u001b[01;32m'Notes from final project.zip'\u001b[0m*   \u001b[01;32mProjeto.ipynb\u001b[0m*\r\n",
      " \u001b[34;42morl_faces\u001b[0m/                       \u001b[01;32mProjeto-Limpo.ipynb\u001b[0m*\r\n",
      " \u001b[01;32morl_faces.zip\u001b[0m*                   \u001b[01;32mREADME.md\u001b[0m*\r\n",
      " \u001b[01;32mplot_regression.ipynb\u001b[0m*\r\n"
     ]
    }
   ],
   "source": [
    "%ls ."
   ]
  },
  {
   "cell_type": "markdown",
   "metadata": {},
   "source": [
    "# Analisando as pastas\n"
   ]
  },
  {
   "cell_type": "code",
   "execution_count": 11,
   "metadata": {
    "scrolled": true
   },
   "outputs": [
    {
     "name": "stdout",
     "output_type": "stream",
     "text": [
      "\u001b[0m\u001b[34;42ms1\u001b[0m/   \u001b[34;42ms13\u001b[0m/  \u001b[34;42ms17\u001b[0m/  \u001b[34;42ms20\u001b[0m/  \u001b[34;42ms24\u001b[0m/  \u001b[34;42ms28\u001b[0m/  \u001b[34;42ms31\u001b[0m/  \u001b[34;42ms35\u001b[0m/  \u001b[34;42ms39\u001b[0m/  \u001b[34;42ms6\u001b[0m/\r\n",
      "\u001b[34;42ms10\u001b[0m/  \u001b[34;42ms14\u001b[0m/  \u001b[34;42ms18\u001b[0m/  \u001b[34;42ms21\u001b[0m/  \u001b[34;42ms25\u001b[0m/  \u001b[34;42ms29\u001b[0m/  \u001b[34;42ms32\u001b[0m/  \u001b[34;42ms36\u001b[0m/  \u001b[34;42ms4\u001b[0m/   \u001b[34;42ms7\u001b[0m/\r\n",
      "\u001b[34;42ms11\u001b[0m/  \u001b[34;42ms15\u001b[0m/  \u001b[34;42ms19\u001b[0m/  \u001b[34;42ms22\u001b[0m/  \u001b[34;42ms26\u001b[0m/  \u001b[34;42ms3\u001b[0m/   \u001b[34;42ms33\u001b[0m/  \u001b[34;42ms37\u001b[0m/  \u001b[34;42ms40\u001b[0m/  \u001b[34;42ms8\u001b[0m/\r\n",
      "\u001b[34;42ms12\u001b[0m/  \u001b[34;42ms16\u001b[0m/  \u001b[34;42ms2\u001b[0m/   \u001b[34;42ms23\u001b[0m/  \u001b[34;42ms27\u001b[0m/  \u001b[34;42ms30\u001b[0m/  \u001b[34;42ms34\u001b[0m/  \u001b[34;42ms38\u001b[0m/  \u001b[34;42ms5\u001b[0m/   \u001b[34;42ms9\u001b[0m/\r\n"
     ]
    }
   ],
   "source": [
    "%ls orl_faces/orl_faces/"
   ]
  },
  {
   "cell_type": "code",
   "execution_count": 12,
   "metadata": {},
   "outputs": [
    {
     "name": "stdout",
     "output_type": "stream",
     "text": [
      "\u001b[0m\u001b[01;32m10.pgm\u001b[0m*  \u001b[01;32m1.pgm\u001b[0m*  \u001b[01;32m2.pgm\u001b[0m*  \u001b[01;32m3.pgm\u001b[0m*  \u001b[01;32m4.pgm\u001b[0m*  \u001b[01;32m5.pgm\u001b[0m*  \u001b[01;32m6.pgm\u001b[0m*  \u001b[01;32m7.pgm\u001b[0m*  \u001b[01;32m8.pgm\u001b[0m*  \u001b[01;32m9.pgm\u001b[0m*\r\n"
     ]
    }
   ],
   "source": [
    "%ls orl_faces/orl_faces/s1"
   ]
  },
  {
   "cell_type": "markdown",
   "metadata": {},
   "source": [
    "#  Criar o Conjunto de Dados\n",
    "\n",
    "## Conjunto de pessoas "
   ]
  },
  {
   "cell_type": "code",
   "execution_count": 13,
   "metadata": {},
   "outputs": [],
   "source": [
    "# Tem todas as pessoas \n",
    "people = list()\n",
    "\n",
    "# For para cada pessoa\n",
    "for j in range(1, 41):\n",
    "    # For para cada imagem\n",
    "    for i in range(1, 11):\n",
    "        people.append(np.array(cv2.imread('./orl_faces/orl_faces/s' + str(j) + '/' + str(i) +'.pgm',0)))"
   ]
  },
  {
   "cell_type": "code",
   "execution_count": 14,
   "metadata": {},
   "outputs": [
    {
     "data": {
      "text/plain": [
       "400"
      ]
     },
     "execution_count": 14,
     "metadata": {},
     "output_type": "execute_result"
    }
   ],
   "source": [
    "len(people)"
   ]
  },
  {
   "cell_type": "markdown",
   "metadata": {},
   "source": [
    "## Conjunto de labels (etiquetas) indicando a quem foto pertence a quem"
   ]
  },
  {
   "cell_type": "code",
   "execution_count": 18,
   "metadata": {},
   "outputs": [
    {
     "name": "stdout",
     "output_type": "stream",
     "text": [
      "[0, 0, 0, 0, 0, 0, 0, 0, 0, 0, 1, 1, 1, 1, 1, 1, 1, 1, 1, 1, 2, 2, 2, 2, 2, 2, 2, 2, 2, 2, 3, 3, 3, 3, 3, 3, 3, 3, 3, 3, 4, 4, 4, 4, 4, 4, 4, 4, 4, 4, 5, 5, 5, 5, 5, 5, 5, 5, 5, 5, 6, 6, 6, 6, 6, 6, 6, 6, 6, 6, 7, 7, 7, 7, 7, 7, 7, 7, 7, 7, 8, 8, 8, 8, 8, 8, 8, 8, 8, 8, 9, 9, 9, 9, 9, 9, 9, 9, 9, 9, 10, 10, 10, 10, 10, 10, 10, 10, 10, 10, 11, 11, 11, 11, 11, 11, 11, 11, 11, 11, 12, 12, 12, 12, 12, 12, 12, 12, 12, 12, 13, 13, 13, 13, 13, 13, 13, 13, 13, 13, 14, 14, 14, 14, 14, 14, 14, 14, 14, 14, 15, 15, 15, 15, 15, 15, 15, 15, 15, 15, 16, 16, 16, 16, 16, 16, 16, 16, 16, 16, 17, 17, 17, 17, 17, 17, 17, 17, 17, 17, 18, 18, 18, 18, 18, 18, 18, 18, 18, 18, 19, 19, 19, 19, 19, 19, 19, 19, 19, 19, 20, 20, 20, 20, 20, 20, 20, 20, 20, 20, 21, 21, 21, 21, 21, 21, 21, 21, 21, 21, 22, 22, 22, 22, 22, 22, 22, 22, 22, 22, 23, 23, 23, 23, 23, 23, 23, 23, 23, 23, 24, 24, 24, 24, 24, 24, 24, 24, 24, 24, 25, 25, 25, 25, 25, 25, 25, 25, 25, 25, 26, 26, 26, 26, 26, 26, 26, 26, 26, 26, 27, 27, 27, 27, 27, 27, 27, 27, 27, 27, 28, 28, 28, 28, 28, 28, 28, 28, 28, 28, 29, 29, 29, 29, 29, 29, 29, 29, 29, 29, 30, 30, 30, 30, 30, 30, 30, 30, 30, 30, 31, 31, 31, 31, 31, 31, 31, 31, 31, 31, 32, 32, 32, 32, 32, 32, 32, 32, 32, 32, 33, 33, 33, 33, 33, 33, 33, 33, 33, 33, 34, 34, 34, 34, 34, 34, 34, 34, 34, 34, 35, 35, 35, 35, 35, 35, 35, 35, 35, 35, 36, 36, 36, 36, 36, 36, 36, 36, 36, 36, 37, 37, 37, 37, 37, 37, 37, 37, 37, 37, 38, 38, 38, 38, 38, 38, 38, 38, 38, 38, 39, 39, 39, 39, 39, 39, 39, 39, 39, 39]\n"
     ]
    }
   ],
   "source": [
    "people_labels = list()\n",
    "\n",
    "for i in range(40):\n",
    "    for j in range(10):\n",
    "        people_labels.append(i)\n",
    "\n",
    "print(people_labels)"
   ]
  },
  {
   "cell_type": "markdown",
   "metadata": {},
   "source": [
    "# Pré-Processamento"
   ]
  },
  {
   "cell_type": "markdown",
   "metadata": {},
   "source": [
    "### 1 -> Calcular a transformada bidimensional de todas as imagens"
   ]
  },
  {
   "cell_type": "code",
   "execution_count": 35,
   "metadata": {},
   "outputs": [],
   "source": [
    "people_fft = list()\n",
    "\n",
    "for image in people:\n",
    "    # Fourier Bidimensional Tranform\n",
    "    people_fft.append(np.fft.fft2(image))"
   ]
  },
  {
   "cell_type": "markdown",
   "metadata": {},
   "source": [
    "### 2 -> _Shiftar_ a tranformada de Fourier"
   ]
  },
  {
   "cell_type": "code",
   "execution_count": 36,
   "metadata": {},
   "outputs": [],
   "source": [
    "people_fft_shift = list()\n",
    "\n",
    "for image_fft in people_fft:\n",
    "    people_fft_shift.append(np.fft.fftshift(image_fft))"
   ]
  },
  {
   "cell_type": "code",
   "execution_count": 37,
   "metadata": {},
   "outputs": [
    {
     "data": {
      "text/plain": [
       "(400, 400)"
      ]
     },
     "execution_count": 37,
     "metadata": {},
     "output_type": "execute_result"
    }
   ],
   "source": [
    "len(people_fft), len(people_fft_shift)"
   ]
  },
  {
   "cell_type": "markdown",
   "metadata": {},
   "source": [
    "# Funçao para cortar imagem"
   ]
  },
  {
   "cell_type": "code",
   "execution_count": null,
   "metadata": {},
   "outputs": [],
   "source": []
  },
  {
   "cell_type": "markdown",
   "metadata": {},
   "source": [
    "# Separar em conjunto de teste e universo\n",
    "(entenda universo como o conjunto de dados onde tem as (400 - 40) fotos)"
   ]
  },
  {
   "cell_type": "code",
   "execution_count": 66,
   "metadata": {},
   "outputs": [
    {
     "ename": "TypeError",
     "evalue": "remove() takes exactly one argument (0 given)",
     "output_type": "error",
     "traceback": [
      "\u001b[0;31m---------------------------------------------------------------------------\u001b[0m",
      "\u001b[0;31mTypeError\u001b[0m                                 Traceback (most recent call last)",
      "\u001b[0;32m<ipython-input-66-8201aff1e701>\u001b[0m in \u001b[0;36m<module>\u001b[0;34m\u001b[0m\n\u001b[1;32m      5\u001b[0m \u001b[0;34m\u001b[0m\u001b[0m\n\u001b[1;32m      6\u001b[0m \u001b[0;32mfor\u001b[0m \u001b[0mi\u001b[0m \u001b[0;32min\u001b[0m \u001b[0mrange\u001b[0m\u001b[0;34m(\u001b[0m\u001b[0;36m0\u001b[0m\u001b[0;34m,\u001b[0m \u001b[0mlen\u001b[0m\u001b[0;34m(\u001b[0m\u001b[0mpeople_fft_shift\u001b[0m\u001b[0;34m)\u001b[0m\u001b[0;34m,\u001b[0m \u001b[0;36m10\u001b[0m\u001b[0;34m)\u001b[0m\u001b[0;34m:\u001b[0m\u001b[0;34m\u001b[0m\u001b[0;34m\u001b[0m\u001b[0m\n\u001b[0;32m----> 7\u001b[0;31m     \u001b[0mpeople_fft_shift\u001b[0m\u001b[0;34m.\u001b[0m\u001b[0mremove\u001b[0m\u001b[0;34m(\u001b[0m\u001b[0;34m)\u001b[0m\u001b[0;34m\u001b[0m\u001b[0;34m\u001b[0m\u001b[0m\n\u001b[0m",
      "\u001b[0;31mTypeError\u001b[0m: remove() takes exactly one argument (0 given)"
     ]
    }
   ],
   "source": [
    "people_teste = list()\n",
    "\n",
    "for i in range(0, len(people_fft_shift), 10):\n",
    "    people_teste.append(people_fft_shift[i])\n",
    "\n",
    "for i in range(0, len(people_fft_shift), 10):\n",
    "    people_fft_shift.remove()\n"
   ]
  },
  {
   "cell_type": "code",
   "execution_count": 54,
   "metadata": {},
   "outputs": [
    {
     "data": {
      "text/plain": [
       "(40, 400)"
      ]
     },
     "execution_count": 54,
     "metadata": {},
     "output_type": "execute_result"
    }
   ],
   "source": [
    "len(people_teste), len(people_fft_shift)"
   ]
  },
  {
   "cell_type": "code",
   "execution_count": 65,
   "metadata": {},
   "outputs": [
    {
     "name": "stdout",
     "output_type": "stream",
     "text": [
      "0\n",
      "<built-in method remove of list object at 0x7f5169d57348>\n",
      "10\n",
      "<built-in method remove of list object at 0x7f5169d57348>\n",
      "20\n",
      "<built-in method remove of list object at 0x7f5169d57348>\n",
      "30\n",
      "<built-in method remove of list object at 0x7f5169d57348>\n",
      "40\n",
      "<built-in method remove of list object at 0x7f5169d57348>\n",
      "50\n",
      "<built-in method remove of list object at 0x7f5169d57348>\n",
      "60\n",
      "<built-in method remove of list object at 0x7f5169d57348>\n",
      "70\n",
      "<built-in method remove of list object at 0x7f5169d57348>\n",
      "80\n",
      "<built-in method remove of list object at 0x7f5169d57348>\n",
      "90\n",
      "<built-in method remove of list object at 0x7f5169d57348>\n",
      "100\n",
      "<built-in method remove of list object at 0x7f5169d57348>\n",
      "110\n",
      "<built-in method remove of list object at 0x7f5169d57348>\n",
      "120\n",
      "<built-in method remove of list object at 0x7f5169d57348>\n",
      "130\n",
      "<built-in method remove of list object at 0x7f5169d57348>\n",
      "140\n",
      "<built-in method remove of list object at 0x7f5169d57348>\n",
      "150\n",
      "<built-in method remove of list object at 0x7f5169d57348>\n",
      "160\n",
      "<built-in method remove of list object at 0x7f5169d57348>\n",
      "170\n",
      "<built-in method remove of list object at 0x7f5169d57348>\n",
      "180\n",
      "<built-in method remove of list object at 0x7f5169d57348>\n",
      "190\n",
      "<built-in method remove of list object at 0x7f5169d57348>\n",
      "200\n",
      "<built-in method remove of list object at 0x7f5169d57348>\n",
      "210\n",
      "<built-in method remove of list object at 0x7f5169d57348>\n",
      "220\n",
      "<built-in method remove of list object at 0x7f5169d57348>\n",
      "230\n",
      "<built-in method remove of list object at 0x7f5169d57348>\n",
      "240\n",
      "<built-in method remove of list object at 0x7f5169d57348>\n",
      "250\n",
      "<built-in method remove of list object at 0x7f5169d57348>\n",
      "260\n",
      "<built-in method remove of list object at 0x7f5169d57348>\n",
      "270\n",
      "<built-in method remove of list object at 0x7f5169d57348>\n",
      "280\n",
      "<built-in method remove of list object at 0x7f5169d57348>\n",
      "290\n",
      "<built-in method remove of list object at 0x7f5169d57348>\n",
      "300\n",
      "<built-in method remove of list object at 0x7f5169d57348>\n",
      "310\n",
      "<built-in method remove of list object at 0x7f5169d57348>\n",
      "320\n",
      "<built-in method remove of list object at 0x7f5169d57348>\n",
      "330\n",
      "<built-in method remove of list object at 0x7f5169d57348>\n",
      "340\n",
      "<built-in method remove of list object at 0x7f5169d57348>\n",
      "350\n",
      "<built-in method remove of list object at 0x7f5169d57348>\n",
      "360\n",
      "<built-in method remove of list object at 0x7f5169d57348>\n",
      "370\n",
      "<built-in method remove of list object at 0x7f5169d57348>\n",
      "380\n",
      "<built-in method remove of list object at 0x7f5169d57348>\n",
      "390\n",
      "<built-in method remove of list object at 0x7f5169d57348>\n",
      "[0, 1, 2, 3, 4, 5, 6, 7, 8, 9, 10, 11, 12, 13, 14, 15, 16, 17, 18, 19, 20, 21, 22, 23, 24, 25, 26, 27, 28, 29, 30, 31, 32, 33, 34, 35, 36, 37, 38, 39, 40, 41, 42, 43, 44, 45, 46, 47, 48, 49, 50, 51, 52, 53, 54, 55, 56, 57, 58, 59, 60, 61, 62, 63, 64, 65, 66, 67, 68, 69, 70, 71, 72, 73, 74, 75, 76, 77, 78, 79, 80, 81, 82, 83, 84, 85, 86, 87, 88, 89, 90, 91, 92, 93, 94, 95, 96, 97, 98, 99, 100, 101, 102, 103, 104, 105, 106, 107, 108, 109, 110, 111, 112, 113, 114, 115, 116, 117, 118, 119, 120, 121, 122, 123, 124, 125, 126, 127, 128, 129, 130, 131, 132, 133, 134, 135, 136, 137, 138, 139, 140, 141, 142, 143, 144, 145, 146, 147, 148, 149, 150, 151, 152, 153, 154, 155, 156, 157, 158, 159, 160, 161, 162, 163, 164, 165, 166, 167, 168, 169, 170, 171, 172, 173, 174, 175, 176, 177, 178, 179, 180, 181, 182, 183, 184, 185, 186, 187, 188, 189, 190, 191, 192, 193, 194, 195, 196, 197, 198, 199, 200, 201, 202, 203, 204, 205, 206, 207, 208, 209, 210, 211, 212, 213, 214, 215, 216, 217, 218, 219, 220, 221, 222, 223, 224, 225, 226, 227, 228, 229, 230, 231, 232, 233, 234, 235, 236, 237, 238, 239, 240, 241, 242, 243, 244, 245, 246, 247, 248, 249, 250, 251, 252, 253, 254, 255, 256, 257, 258, 259, 260, 261, 262, 263, 264, 265, 266, 267, 268, 269, 270, 271, 272, 273, 274, 275, 276, 277, 278, 279, 280, 281, 282, 283, 284, 285, 286, 287, 288, 289, 290, 291, 292, 293, 294, 295, 296, 297, 298, 299, 300, 301, 302, 303, 304, 305, 306, 307, 308, 309, 310, 311, 312, 313, 314, 315, 316, 317, 318, 319, 320, 321, 322, 323, 324, 325, 326, 327, 328, 329, 330, 331, 332, 333, 334, 335, 336, 337, 338, 339, 340, 341, 342, 343, 344, 345, 346, 347, 348, 349, 350, 351, 352, 353, 354, 355, 356, 357, 358, 359, 360, 361, 362, 363, 364, 365, 366, 367, 368, 369, 370, 371, 372, 373, 374, 375, 376, 377, 378, 379, 380, 381, 382, 383, 384, 385, 386, 387, 388, 389, 390, 391, 392, 393, 394, 395, 396, 397, 398, 399] 400\n"
     ]
    }
   ],
   "source": [
    "a = [i for i in range(400)]\n",
    "\n",
    "for i in range(0, len(a), 10):\n",
    "    print(a[i])\n",
    "    print(a.remove,)\n",
    "    \n",
    "print(a, len(a))"
   ]
  },
  {
   "cell_type": "code",
   "execution_count": null,
   "metadata": {},
   "outputs": [],
   "source": []
  },
  {
   "cell_type": "code",
   "execution_count": null,
   "metadata": {},
   "outputs": [],
   "source": []
  },
  {
   "cell_type": "code",
   "execution_count": null,
   "metadata": {},
   "outputs": [],
   "source": []
  },
  {
   "cell_type": "markdown",
   "metadata": {},
   "source": [
    "# Analizing Data"
   ]
  },
  {
   "cell_type": "code",
   "execution_count": 33,
   "metadata": {},
   "outputs": [
    {
     "data": {
      "image/png": "[encoded data removed]",
      "text/plain": [
       "<Figure size 432x288 with 50 Axes>"
      ]
     },
     "metadata": {},
     "output_type": "display_data"
    }
   ],
   "source": [
    "nrows, ncols = 5, 10\n",
    "\n",
    "for j in range(0,nrows*ncols,10):\n",
    "    for i in range(1,11):\n",
    "        plt.subplot(nrows, ncols, i + j)\n",
    "        plt.imshow(people[i-1 + j], cmap = 'gray')\n",
    "        #plt.title('%s %s' %(i, j))\n",
    "        plt.xticks([]), plt.yticks([])\n",
    "plt.subplots_adjust(left=None, bottom=None, right=None, top=None, wspace=0.1, hspace=0.1)\n",
    "plt.show()"
   ]
  },
  {
   "cell_type": "code",
   "execution_count": null,
   "metadata": {},
   "outputs": [],
   "source": [
    "people_np_array = np.array(people)\n",
    "people_X_np_array = np.array(people_X)"
   ]
  },
  {
   "cell_type": "code",
   "execution_count": null,
   "metadata": {},
   "outputs": [],
   "source": [
    "print(people_np_array.shape,people_X_np_array.shape)"
   ]
  },
  {
   "cell_type": "code",
   "execution_count": null,
   "metadata": {},
   "outputs": [],
   "source": [
    "person = 39\n",
    "image = 9\n",
    "\n",
    "plt.imshow(np.reshape(people_np_array,(40,10,112,92))[person][image], cmap=\"gray\" )\n",
    "plt.xticks([]), plt.yticks([])\n",
    "plt.show()"
   ]
  },
  {
   "cell_type": "code",
   "execution_count": null,
   "metadata": {},
   "outputs": [],
   "source": [
    "people_np_array_4d = np.reshape(people_np_array,(40,10,112,92))\n",
    "#pd.DataFrame(people_np_array_4d)"
   ]
  },
  {
   "cell_type": "markdown",
   "metadata": {},
   "source": [
    "# Starting the knn"
   ]
  },
  {
   "cell_type": "code",
   "execution_count": null,
   "metadata": {},
   "outputs": [],
   "source": [
    "the_chosen_ones = list()"
   ]
  },
  {
   "cell_type": "code",
   "execution_count": null,
   "metadata": {},
   "outputs": [],
   "source": [
    "from sklearn.model_selection import GroupKFold\n",
    "\n",
    "X = [0.1, 0.2, 2.2, 2.4, 2.3, 4.55, 5.8, 8.8, 9, 10]\n",
    "y = [\"a\", \"b\", \"b\", \"b\", \"c\", \"c\", \"c\", \"d\", \"d\", \"d\"]\n",
    "groups = [1, 1, 1, 2, 2, 2, 3, 3, 3, 3]\n",
    "\n",
    "gkf = GroupKFold(n_splits=3)\n",
    "\n",
    "print(\"train \\t   \\t         test\")\n",
    "for train, test in gkf.split(X, y, groups=groups):\n",
    "    print(\"%s   \\t %s\" % (train, test))"
   ]
  },
  {
   "cell_type": "code",
   "execution_count": null,
   "metadata": {},
   "outputs": [],
   "source": [
    "from sklearn.model_selection import GroupKFold\n",
    "\n",
    "X = people               #[0.1, 0.2, 2.2, 2.4, 2.3, 4.55, 5.8, 8.8, 9, 10]\n",
    "y = people_labels        #[\"a\", \"b\", \"b\", \"b\", \"c\", \"c\", \"c\", \"d\", \"d\", \"d\"]\n",
    "groups = people_labels   #[1, 1, 1, 2, 2, 2, 3, 3, 3, 3]\n",
    "\n",
    "gkf = GroupKFold(n_splits=40)\n",
    "\n",
    "for train, test in gkf.split(X, y, groups=groups):\n",
    "    print(\"Train %s\" % (train))\n",
    "    print(\"Test  %s\" % (test))"
   ]
  },
  {
   "cell_type": "markdown",
   "metadata": {},
   "source": [
    "Python Code\n",
    "```\n",
    "X = [[0], [1], [2], [3]]\n",
    "y = [0, 0, 1, 1]\n",
    "from sklearn.neighbors import KNeighborsClassifier\n",
    "neigh = KNeighborsClassifier(n_neighbors=3)\n",
    "neigh.fit(X, y) \n",
    "```"
   ]
  },
  {
   "cell_type": "code",
   "execution_count": null,
   "metadata": {},
   "outputs": [],
   "source": [
    "X = people_np_array_4d  # sujeitos(40) * fotos(9) * x(92) * y(112)\n",
    "y = people_labels       # [0, 0, 1, 1]\n",
    "from sklearn.neighbors import KNeighborsClassifier\n",
    "neigh = KNeighborsClassifier(n_neighbors=3)\n",
    "neigh.fit(X, y) "
   ]
  },
  {
   "cell_type": "code",
   "execution_count": null,
   "metadata": {},
   "outputs": [],
   "source": [
    "print(\"img.shape\", img.shape)\n",
    "print(\"f.shape\", f.shape)"
   ]
  },
  {
   "cell_type": "markdown",
   "metadata": {},
   "source": [
    "# Starting the project\n",
    "\n",
    "1. Declarar as variaveis e os parametros do sistema\n",
    "\n",
    "    1.1 Largura e Altura da transformada com shift() de 2x2 á 30x30\n",
    "    \n",
    "    1.2 Melhor área\n",
    "    \n",
    "    1.3 Indice da foto a ser separada\n",
    "    \n",
    "2. Primeiro construir o conjunto de dados X que contém:\n",
    "    \n",
    "    9 fotos * 40 sujeitos\n",
    "    \n",
    "3. Y para o fit\n",
    "    Coluna de label com a id de cada pessoal\n",
    "\n",
    "4. Declarar o ponto (0,0) como 0 ou deixá-lo como valor inicial\n",
    "\n",
    "5. Erro médio quadrático\n",
    "\n",
    "   da imagem a ser classificadas\n",
    "   das outras 9\n",
    "\n",
    "6. Classificar\n"
   ]
  },
  {
   "cell_type": "markdown",
   "metadata": {},
   "source": [
    "## Fluxo da aplicação\n",
    "\n",
    "Primeiro criar o conjunto de dados "
   ]
  },
  {
   "cell_type": "code",
   "execution_count": null,
   "metadata": {},
   "outputs": [],
   "source": [
    "people_fft_shift_np = np.array(people_fft_shift)"
   ]
  },
  {
   "cell_type": "code",
   "execution_count": null,
   "metadata": {},
   "outputs": [],
   "source": [
    "people_fft_shift_np.shape"
   ]
  },
  {
   "cell_type": "code",
   "execution_count": null,
   "metadata": {},
   "outputs": [],
   "source": [
    "def cut_fft_shift(h, image):\n",
    "    x = 92//2\n",
    "    y = 112//2\n",
    "\n",
    "    people_fft_shift_np_crop = list()\n",
    "    print(x - (h//2), x + (h//2))\n",
    "    print(y - (h//2), y + (h//2))\n",
    "    for i in range(x - (h//2), x + (h//2)):\n",
    "        for j in range(y - (h//2), y + (h//2)):\n",
    "            people_fft_shift_np_crop.append(image[i][j])\n",
    "\n",
    "\n",
    "    people_fft_shift_np_crop = np.array(people_fft_shift_np_crop).flatten()\n",
    "    \n",
    "    return people_fft_shift_np_crop"
   ]
  },
  {
   "cell_type": "code",
   "execution_count": null,
   "metadata": {
    "scrolled": true
   },
   "outputs": [],
   "source": [
    "cut_fft_shift(6, people_fft_shift_np[0]).real.shape"
   ]
  },
  {
   "cell_type": "code",
   "execution_count": null,
   "metadata": {
    "scrolled": false
   },
   "outputs": [],
   "source": [
    "img.shape"
   ]
  },
  {
   "cell_type": "code",
   "execution_count": null,
   "metadata": {},
   "outputs": [],
   "source": [
    "plt.imshow(cut_fft_shift(50, img).reshape(50,50), cmap=\"gray\")\n",
    "plt.show()"
   ]
  },
  {
   "cell_type": "code",
   "execution_count": null,
   "metadata": {},
   "outputs": [],
   "source": [
    "people_cropped = list()\n",
    "\n",
    "for image in people_fft_shift_np:\n",
    "    people_cropped.append(cut_fft_shift(14,image))"
   ]
  },
  {
   "cell_type": "code",
   "execution_count": null,
   "metadata": {},
   "outputs": [],
   "source": [
    "people_cropped = np.array(people_cropped)"
   ]
  },
  {
   "cell_type": "code",
   "execution_count": null,
   "metadata": {},
   "outputs": [],
   "source": [
    "people_cropped.shape"
   ]
  },
  {
   "cell_type": "code",
   "execution_count": null,
   "metadata": {},
   "outputs": [],
   "source": []
  },
  {
   "cell_type": "code",
   "execution_count": null,
   "metadata": {},
   "outputs": [],
   "source": []
  },
  {
   "cell_type": "code",
   "execution_count": null,
   "metadata": {},
   "outputs": [],
   "source": []
  },
  {
   "cell_type": "code",
   "execution_count": null,
   "metadata": {},
   "outputs": [],
   "source": []
  }
 ],
 "metadata": {
  "kernelspec": {
   "display_name": "Python 3",
   "language": "python",
   "name": "python3"
  },
  "language_info": {
   "codemirror_mode": {
    "name": "ipython",
    "version": 3
   },
   "file_extension": ".py",
   "mimetype": "text/x-python",
   "name": "python",
   "nbconvert_exporter": "python",
   "pygments_lexer": "ipython3",
   "version": "3.6.7"
  }
 },
 "nbformat": 4,
 "nbformat_minor": 2
}
